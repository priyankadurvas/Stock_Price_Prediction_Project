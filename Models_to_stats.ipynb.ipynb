{
  "cells": [
    {
      "cell_type": "markdown",
      "metadata": {},
      "source": [
        "# Import Libraries"
      ]
    },
    {
      "cell_type": "code",
      "execution_count": 1,
      "metadata": {},
      "outputs": [
        {
          "name": "stderr",
          "output_type": "stream",
          "text": [
            "c:\\Users\\PorallaPradhyumna\\.conda\\envs\\env_rl\\lib\\site-packages\\numpy\\_distributor_init.py:30: UserWarning: loaded more than 1 DLL from .libs:\n",
            "c:\\Users\\PorallaPradhyumna\\.conda\\envs\\env_rl\\lib\\site-packages\\numpy\\.libs\\libopenblas.FB5AE2TYXYH2IJRDKGDGQ3XBKLKTF43H.gfortran-win_amd64.dll\n",
            "c:\\Users\\PorallaPradhyumna\\.conda\\envs\\env_rl\\lib\\site-packages\\numpy\\.libs\\libopenblas.XWYDX2IKJW2NMTWSFYNGFUWKQU3LYTCZ.gfortran-win_amd64.dll\n",
            "  warnings.warn(\"loaded more than 1 DLL from .libs:\"\n"
          ]
        }
      ],
      "source": [
        "# Import the pandas library for data manipulation and analysis\n",
        "import pandas as pd"
      ]
    },
    {
      "cell_type": "markdown",
      "metadata": {},
      "source": [
        "# Data Loading and Preprocessing"
      ]
    },
    {
      "cell_type": "code",
      "execution_count": 2,
      "metadata": {
        "colab": {
          "base_uri": "https://localhost:8080/"
        },
        "id": "Vp1aWrASQV-h",
        "outputId": "c5b0bf5b-84f9-4fd5-dd92-6be11487d373"
      },
      "outputs": [
        {
          "name": "stdout",
          "output_type": "stream",
          "text": [
            "['Date', 'Open', 'High', 'Low', 'Close', 'Adj Close', 'Volume']\n",
            "1258\n"
          ]
        }
      ],
      "source": [
        "# This line specifies the file path of the current notebook.\n",
        "\n",
        "fname = \"D:/Programs/DeepLearing/Stock_prize_Prediction/Data/AAPL.csv\"\n",
        "# This line assigns the file path of the CSV file to the variable 'fname'.\n",
        "\n",
        "with open(fname) as f:\n",
        "    # This line opens the file specified by 'fname' in read mode and assigns it to the file object 'f'.\n",
        "    \n",
        "    data = f.read()\n",
        "    # This line reads the contents of the file and assigns it to the variable 'data'.\n",
        "\n",
        "lines = data.split(\"\\n\")\n",
        "# This line splits the contents of the file into a list of lines using the newline character as the delimiter.\n",
        "\n",
        "header = lines[0].split(\",\")\n",
        "# This line splits the first line of the file (which contains the header) into a list of column names using the comma as the delimiter.\n",
        "\n",
        "lines = lines[1:]\n",
        "# This line removes the first line (header) from the list of lines.\n",
        "\n",
        "print(header)\n",
        "# This line prints the list of column names.\n",
        "\n",
        "print(len(lines))\n",
        "# This line prints the number of data rows in the file.\n"
      ]
    },
    {
      "cell_type": "code",
      "execution_count": 3,
      "metadata": {
        "id": "jky8rF8GZWIY"
      },
      "outputs": [],
      "source": [
        "import numpy as np\n",
        "AdjClose = np.zeros((len(lines),))\n",
        "raw_data = np.zeros((len(lines), len(header) - 1))\n",
        "for i, line in enumerate(lines):\n",
        "    values = [float(x) for x in line.split(\",\")[1:]]\n",
        "    AdjClose[i] = values[1]\n",
        "    raw_data[i, :] = values[:]"
      ]
    },
    {
      "cell_type": "code",
      "execution_count": 4,
      "metadata": {},
      "outputs": [
        {
          "data": {
            "text/plain": [
              "Index(['Date', 'Open', 'High', 'Low', 'Close', 'Adj Close', 'Volume'], dtype='object')"
            ]
          },
          "execution_count": 4,
          "metadata": {},
          "output_type": "execute_result"
        }
      ],
      "source": [
        "# Read the CSV file into a pandas DataFrame\n",
        "df = pd.read_csv(fname)\n",
        "\n",
        "# Print the column names of the DataFrame\n",
        "df.columns"
      ]
    },
    {
      "cell_type": "code",
      "execution_count": 5,
      "metadata": {},
      "outputs": [
        {
          "data": {
            "text/plain": [
              "Date         0\n",
              "Open         0\n",
              "High         0\n",
              "Low          0\n",
              "Close        0\n",
              "Adj Close    0\n",
              "Volume       0\n",
              "dtype: int64"
            ]
          },
          "execution_count": 5,
          "metadata": {},
          "output_type": "execute_result"
        }
      ],
      "source": [
        "df.isna().sum()"
      ]
    },
    {
      "cell_type": "code",
      "execution_count": 6,
      "metadata": {},
      "outputs": [],
      "source": [
        "AdjClose = df['Adj Close']"
      ]
    },
    {
      "cell_type": "code",
      "execution_count": 7,
      "metadata": {
        "colab": {
          "base_uri": "https://localhost:8080/",
          "height": 447
        },
        "id": "xy4WMaZfZpTd",
        "outputId": "888ef9ae-f507-47dd-940f-6f03cd9b7ad9"
      },
      "outputs": [
        {
          "data": {
            "text/plain": [
              "[<matplotlib.lines.Line2D at 0x136e941fbe0>]"
            ]
          },
          "execution_count": 7,
          "metadata": {},
          "output_type": "execute_result"
        },
        {
          "data": {
            "image/png": "[encoded data removed]",
            "text/plain": [
              "<Figure size 640x480 with 1 Axes>"
            ]
          },
          "metadata": {},
          "output_type": "display_data"
        }
      ],
      "source": [
        "# Import the pyplot module from matplotlib\n",
        "from matplotlib import pyplot as plt\n",
        "\n",
        "# Plot the range of values against the AdjClose data\n",
        "plt.plot(range(len(AdjClose)), AdjClose)\n",
        "plt.tight_layout()\n",
        "\n",
        "# Save the plot as a PDF file\n",
        "plt.savefig('ADJ_CLOSE.pdf')\n",
        "plt.show()"
      ]
    },
    {
      "cell_type": "code",
      "execution_count": 8,
      "metadata": {
        "colab": {
          "base_uri": "https://localhost:8080/"
        },
        "id": "N-3qQnMVZ3Xi",
        "outputId": "b3b85485-f92b-462e-80eb-4941ed4e9b72"
      },
      "outputs": [
        {
          "name": "stdout",
          "output_type": "stream",
          "text": [
            "num_train_samples: 629\n",
            "num_val_samples: 314\n",
            "num_test_samples: 315\n"
          ]
        }
      ],
      "source": [
        "# Define the number of training samples as 50% of the total data samples\n",
        "num_train_samples = int(0.5 * len(raw_data))\n",
        "\n",
        "# Define the number of validation samples as 25% of the total data samples\n",
        "num_val_samples = int(0.25 * len(raw_data))\n",
        "\n",
        "# Calculate the number of test samples by subtracting the number of training and validation samples from the total data samples\n",
        "num_test_samples = len(raw_data) - num_train_samples - num_val_samples\n",
        "\n",
        "# Print the number of training, validation, and test samples\n",
        "print(\"num_train_samples:\", num_train_samples)\n",
        "print(\"num_val_samples:\", num_val_samples)\n",
        "print(\"num_test_samples:\", num_test_samples)"
      ]
    },
    {
      "cell_type": "code",
      "execution_count": 9,
      "metadata": {
        "id": "gWHlRAA-Z_Iq"
      },
      "outputs": [],
      "source": [
        "# Calculate the mean of the raw data for the training samples\n",
        "mean = raw_data[:num_train_samples].mean(axis=0)\n",
        "\n",
        "# Subtract the mean from the raw data\n",
        "raw_data -= mean\n",
        "\n",
        "# Calculate the standard deviation of the raw data for the training samples\n",
        "std = raw_data[:num_train_samples].std(axis=0)\n",
        "\n",
        "# Divide the raw data by the standard deviation\n",
        "raw_data /= std"
      ]
    },
    {
      "cell_type": "code",
      "execution_count": 10,
      "metadata": {
        "colab": {
          "base_uri": "https://localhost:8080/"
        },
        "id": "Kod1B8Avssx4",
        "outputId": "70eaab54-6ef6-47c1-a3fb-ecc67cc8dd23"
      },
      "outputs": [
        {
          "data": {
            "text/plain": [
              "(1258, 6)"
            ]
          },
          "execution_count": 10,
          "metadata": {},
          "output_type": "execute_result"
        }
      ],
      "source": [
        "raw_data.shape"
      ]
    },
    {
      "cell_type": "code",
      "execution_count": 11,
      "metadata": {},
      "outputs": [],
      "source": [
        "from sklearn.preprocessing import StandardScaler\n",
        "\n",
        "# Assuming 'y_test' is your target variable\n",
        "scaler = StandardScaler()\n",
        "y_test_scaled = scaler.fit_transform(AdjClose.to_numpy().reshape(-1, 1))"
      ]
    },
    {
      "cell_type": "code",
      "execution_count": 12,
      "metadata": {
        "id": "OjGKFnD_aWfY"
      },
      "outputs": [],
      "source": [
        "import keras\n",
        "sampling_rate = 2\n",
        "sequence_length = 120\n",
        "delay = sampling_rate * (sequence_length + 24 - 1)\n",
        "batch_size = 256\n",
        "\n",
        "train_dataset = keras.utils.timeseries_dataset_from_array(\n",
        "    raw_data[:-delay],\n",
        "    targets=y_test_scaled[delay:],\n",
        "    sampling_rate=sampling_rate,\n",
        "    sequence_length=sequence_length,\n",
        "    shuffle=True,\n",
        "    batch_size=batch_size,\n",
        "    start_index=0,\n",
        "    end_index=num_train_samples)\n",
        "\n",
        "val_dataset = keras.utils.timeseries_dataset_from_array(\n",
        "    raw_data[:-delay],\n",
        "    targets=y_test_scaled[delay:],\n",
        "    sampling_rate=sampling_rate,\n",
        "    sequence_length=sequence_length,\n",
        "    shuffle=True,\n",
        "    batch_size=batch_size,\n",
        "    start_index=num_train_samples,\n",
        "    end_index=num_train_samples + num_val_samples)\n",
        "\n",
        "test_dataset = keras.utils.timeseries_dataset_from_array(\n",
        "    raw_data[:-delay],\n",
        "    targets=y_test_scaled[delay:],\n",
        "    sampling_rate=sampling_rate,\n",
        "    sequence_length=sequence_length,\n",
        "    shuffle=True,\n",
        "    batch_size=batch_size,\n",
        "    start_index=num_train_samples + num_val_samples)\n"
      ]
    },
    {
      "cell_type": "code",
      "execution_count": 13,
      "metadata": {
        "colab": {
          "base_uri": "https://localhost:8080/"
        },
        "id": "CGp5m7Q-au4o",
        "outputId": "f8c86b3e-9c19-4086-d339-7d6c56d920f0"
      },
      "outputs": [
        {
          "name": "stdout",
          "output_type": "stream",
          "text": [
            "samples shape: (256, 120, 6)\n",
            "targets shape: (256, 1)\n"
          ]
        }
      ],
      "source": [
        "for samples, targets in train_dataset:\n",
        "    print(\"samples shape:\", samples.shape)\n",
        "    print(\"targets shape:\", targets.shape)\n",
        "    break"
      ]
    },
    {
      "cell_type": "markdown",
      "metadata": {},
      "source": [
        "# Models and Analysis"
      ]
    },
    {
      "cell_type": "markdown",
      "metadata": {},
      "source": [
        "## Dense Layers"
      ]
    },
    {
      "cell_type": "code",
      "execution_count": 14,
      "metadata": {
        "colab": {
          "base_uri": "https://localhost:8080/"
        },
        "id": "2aQQ7WXObZyy",
        "outputId": "6abe5f9a-fd1b-46e2-c9d2-d83a8fcc7249"
      },
      "outputs": [
        {
          "name": "stdout",
          "output_type": "stream",
          "text": [
            "Epoch 1/10\n",
            "1/2 [==============>...............] - ETA: 2s - loss: 1.0240 - mae: 0.7676INFO:tensorflow:Assets written to: v3_dense.tf\\assets\n",
            "2/2 [==============================] - 3s 752ms/step - loss: 1.2775 - mae: 0.9058 - val_loss: 5.0973 - val_mae: 2.2283\n",
            "Epoch 2/10\n",
            "1/2 [==============>...............] - ETA: 0s - loss: 2.0205 - mae: 1.1445INFO:tensorflow:Assets written to: v3_dense.tf\\assets\n",
            "2/2 [==============================] - 1s 688ms/step - loss: 2.0233 - mae: 1.1434 - val_loss: 1.5642 - val_mae: 1.1856\n",
            "Epoch 3/10\n",
            "1/2 [==============>...............] - ETA: 0s - loss: 0.6248 - mae: 0.6637INFO:tensorflow:Assets written to: v3_dense.tf\\assets\n",
            "2/2 [==============================] - 0s 398ms/step - loss: 0.5607 - mae: 0.6130 - val_loss: 0.1461 - val_mae: 0.2940\n",
            "Epoch 4/10\n",
            "2/2 [==============================] - 0s 44ms/step - loss: 0.2453 - mae: 0.4021 - val_loss: 0.1768 - val_mae: 0.3333\n",
            "Epoch 5/10\n",
            "2/2 [==============================] - 0s 44ms/step - loss: 0.1814 - mae: 0.3472 - val_loss: 0.3283 - val_mae: 0.4848\n",
            "Epoch 6/10\n",
            "2/2 [==============================] - 0s 42ms/step - loss: 0.1490 - mae: 0.3075 - val_loss: 0.3997 - val_mae: 0.5398\n",
            "Epoch 7/10\n",
            "2/2 [==============================] - 0s 43ms/step - loss: 0.1298 - mae: 0.2868 - val_loss: 0.6249 - val_mae: 0.7130\n",
            "Epoch 8/10\n",
            "2/2 [==============================] - 0s 39ms/step - loss: 0.1167 - mae: 0.2722 - val_loss: 0.2631 - val_mae: 0.4220\n",
            "Epoch 9/10\n",
            "2/2 [==============================] - 0s 42ms/step - loss: 0.1394 - mae: 0.2988 - val_loss: 0.2018 - val_mae: 0.3652\n",
            "Epoch 10/10\n",
            "2/2 [==============================] - 0s 42ms/step - loss: 0.2925 - mae: 0.4529 - val_loss: 0.9893 - val_mae: 0.9235\n"
          ]
        }
      ],
      "source": [
        "from tensorflow import keras\n",
        "from tensorflow.keras import layers\n",
        "\n",
        "inputs = keras.Input(shape=(sequence_length, raw_data.shape[-1]))\n",
        "x = layers.Flatten()(inputs)\n",
        "x = layers.Dense(16, activation=\"relu\")(x)\n",
        "outputs = layers.Dense(1)(x)\n",
        "model = keras.Model(inputs, outputs)\n",
        "\n",
        "callbacks = [\n",
        "    keras.callbacks.ModelCheckpoint(\"v3_dense.tf\",\n",
        "                                    save_best_only=True)\n",
        "]\n",
        "model.compile(optimizer=\"rmsprop\", loss=\"mse\", metrics=[\"mae\"])\n",
        "history = model.fit(train_dataset,\n",
        "                    epochs=10,\n",
        "                    validation_data=val_dataset,\n",
        "                    callbacks=callbacks)\n",
        "\n",
        "model = keras.models.load_model(\"v3_dense.tf\")\n",
        "\n"
      ]
    },
    {
      "cell_type": "code",
      "execution_count": 15,
      "metadata": {
        "colab": {
          "base_uri": "https://localhost:8080/",
          "height": 452
        },
        "id": "wtCUNRZBfGE0",
        "outputId": "006d7296-3b50-4480-ff43-6d1c842ecdaa"
      },
      "outputs": [
        {
          "data": {
            "image/png": "[encoded data removed]",
            "text/plain": [
              "<Figure size 640x480 with 1 Axes>"
            ]
          },
          "metadata": {},
          "output_type": "display_data"
        },
        {
          "name": "stdout",
          "output_type": "stream",
          "text": [
            "T-statistic: -1.1726536981541795\n",
            "P-value: 0.26152430488324907\n",
            "Fail to reject the null hypothesis. There is no significant difference between the distributions.\n"
          ]
        }
      ],
      "source": [
        "import matplotlib.pyplot as plt\n",
        "loss = history.history[\"mae\"]\n",
        "val_loss = history.history[\"val_mae\"]\n",
        "epochs = range(1, len(loss) + 1)\n",
        "plt.figure()\n",
        "plt.plot(epochs, loss, \"bo\", label=\"Training MAE\")\n",
        "plt.plot(epochs, val_loss, \"b\", label=\"Validation MAE\")\n",
        "plt.tight_layout()\n",
        "\n",
        "# Save the plot as a PDF file\n",
        "plt.savefig('Dense.pdf')\n",
        "plt.title(\"Training and validation MAE\")\n",
        "plt.legend()\n",
        "plt.show()\n",
        "\n",
        "from scipy import stats\n",
        "\n",
        "\n",
        "# Perform a t-test assuming unequal variances (Welch's t-test)\n",
        "t_statistic, p_value = stats.ttest_ind(loss, val_loss, equal_var=False)\n",
        "\n",
        "# Print the results\n",
        "print(\"T-statistic:\", t_statistic)\n",
        "print(\"P-value:\", p_value)\n",
        "\n",
        "# Interpret the results\n",
        "alpha = 0.05  # significance level\n",
        "if p_value < alpha:\n",
        "    print(\"Reject the null hypothesis. There is a significant difference between the distributions.\")\n",
        "else:\n",
        "    print(\"Fail to reject the null hypothesis. There is no significant difference between the distributions.\")\n"
      ]
    },
    {
      "cell_type": "code",
      "execution_count": 16,
      "metadata": {
        "colab": {
          "base_uri": "https://localhost:8080/"
        },
        "id": "nhNbIPiqq9j6",
        "outputId": "0aec08bd-95e0-4bd3-ae5b-81a14a7ed659"
      },
      "outputs": [],
      "source": [
        "\n",
        "for samples, targets in test_dataset:\n",
        "    print(\"samples shape:\", samples.shape)\n",
        "    print(\"targets shape:\", targets.shape)\n",
        "    break"
      ]
    },
    {
      "cell_type": "code",
      "execution_count": 17,
      "metadata": {
        "colab": {
          "base_uri": "https://localhost:8080/"
        },
        "id": "svlK_NXouGz0",
        "outputId": "46e5d5f6-7e68-4ed1-d8b0-ec0d6ea8fdbc"
      },
      "outputs": [
        {
          "data": {
            "text/plain": [
              "(120, 6)"
            ]
          },
          "execution_count": 17,
          "metadata": {},
          "output_type": "execute_result"
        }
      ],
      "source": [
        "(sequence_length, raw_data.shape[-1])"
      ]
    },
    {
      "cell_type": "code",
      "execution_count": 18,
      "metadata": {
        "colab": {
          "base_uri": "https://localhost:8080/"
        },
        "id": "g8lvso6Ftfk_",
        "outputId": "3aa211ee-30f5-464f-d4ba-9d864c09d97f"
      },
      "outputs": [
        {
          "name": "stdout",
          "output_type": "stream",
          "text": [
            "-2\n"
          ]
        }
      ],
      "source": [
        "output_seq_length = ((3 -  6+ 2 * 0) // 1) + 1\n",
        "output_feature_channels = 8\n",
        "print(output_seq_length)"
      ]
    },
    {
      "cell_type": "markdown",
      "metadata": {},
      "source": [
        "## Conv Layer"
      ]
    },
    {
      "cell_type": "code",
      "execution_count": 19,
      "metadata": {
        "colab": {
          "base_uri": "https://localhost:8080/"
        },
        "id": "2IeK0ruxlGjQ",
        "outputId": "21831e7b-6698-4c59-950e-c624faf22b44"
      },
      "outputs": [
        {
          "name": "stdout",
          "output_type": "stream",
          "text": [
            "Epoch 1/10\n"
          ]
        },
        {
          "name": "stdout",
          "output_type": "stream",
          "text": [
            "2/2 [==============================] - ETA: 0s - loss: 0.3113 - mae: 0.3866"
          ]
        },
        {
          "name": "stderr",
          "output_type": "stream",
          "text": [
            "WARNING:absl:Found untraced functions such as _jit_compiled_convolution_op, _jit_compiled_convolution_op while saving (showing 2 of 2). These functions will not be directly callable after loading.\n"
          ]
        },
        {
          "name": "stdout",
          "output_type": "stream",
          "text": [
            "INFO:tensorflow:Assets written to: v3_conv.tf\\assets\n"
          ]
        },
        {
          "name": "stderr",
          "output_type": "stream",
          "text": [
            "INFO:tensorflow:Assets written to: v3_conv.tf\\assets\n"
          ]
        },
        {
          "name": "stdout",
          "output_type": "stream",
          "text": [
            "2/2 [==============================] - 8s 1s/step - loss: 0.3113 - mae: 0.3866 - val_loss: 0.1400 - val_mae: 0.3147\n",
            "Epoch 2/10\n",
            "1/2 [==============>...............] - ETA: 0s - loss: 0.0415 - mae: 0.1662"
          ]
        },
        {
          "name": "stderr",
          "output_type": "stream",
          "text": [
            "WARNING:absl:Found untraced functions such as _jit_compiled_convolution_op, _jit_compiled_convolution_op while saving (showing 2 of 2). These functions will not be directly callable after loading.\n"
          ]
        },
        {
          "name": "stdout",
          "output_type": "stream",
          "text": [
            "INFO:tensorflow:Assets written to: v3_conv.tf\\assets\n"
          ]
        },
        {
          "name": "stderr",
          "output_type": "stream",
          "text": [
            "INFO:tensorflow:Assets written to: v3_conv.tf\\assets\n"
          ]
        },
        {
          "name": "stdout",
          "output_type": "stream",
          "text": [
            "2/2 [==============================] - 1s 959ms/step - loss: 0.0395 - mae: 0.1636 - val_loss: 0.0534 - val_mae: 0.1919\n",
            "Epoch 3/10\n",
            "2/2 [==============================] - 0s 65ms/step - loss: 0.0285 - mae: 0.1384 - val_loss: 0.0587 - val_mae: 0.1988\n",
            "Epoch 4/10\n",
            "2/2 [==============================] - 0s 69ms/step - loss: 0.0269 - mae: 0.1316 - val_loss: 0.0794 - val_mae: 0.2293\n",
            "Epoch 5/10\n",
            "2/2 [==============================] - 0s 53ms/step - loss: 0.0245 - mae: 0.1251 - val_loss: 0.0690 - val_mae: 0.2143\n",
            "Epoch 6/10\n",
            "2/2 [==============================] - 0s 51ms/step - loss: 0.0278 - mae: 0.1311 - val_loss: 0.0573 - val_mae: 0.1969\n",
            "Epoch 7/10\n",
            "2/2 [==============================] - 0s 55ms/step - loss: 0.0246 - mae: 0.1241 - val_loss: 0.0552 - val_mae: 0.1942\n",
            "Epoch 8/10\n",
            "2/2 [==============================] - 0s 68ms/step - loss: 0.0227 - mae: 0.1191 - val_loss: 0.0570 - val_mae: 0.1966\n",
            "Epoch 9/10\n",
            "2/2 [==============================] - 0s 54ms/step - loss: 0.0235 - mae: 0.1219 - val_loss: 0.0576 - val_mae: 0.1975\n",
            "Epoch 10/10\n",
            "2/2 [==============================] - 0s 52ms/step - loss: 0.0331 - mae: 0.1434 - val_loss: 0.1208 - val_mae: 0.2812\n"
          ]
        }
      ],
      "source": [
        "import keras\n",
        "from keras import layers\n",
        "\n",
        "# Define the model architecture\n",
        "inputs = keras.Input(shape=(sequence_length, raw_data.shape[-1]))\n",
        "x = layers.Conv1D(8, 24, activation=\"relu\")(inputs)\n",
        "x = layers.MaxPooling1D(2)(x)\n",
        "x = layers.Conv1D(8, 6, activation=\"relu\")(x)\n",
        "x = layers.GlobalAveragePooling1D()(x)\n",
        "outputs = layers.Dense(1)(x)\n",
        "model = keras.Model(inputs, outputs)\n",
        "\n",
        "# Define callbacks, compile the model, and train\n",
        "callbacks = [\n",
        "    keras.callbacks.ModelCheckpoint(\"v3_conv.tf\",\n",
        "                                    save_best_only=True)\n",
        "]\n",
        "model.compile(optimizer=\"rmsprop\", loss=\"mse\", metrics=[\"mae\"])\n",
        "history = model.fit(train_dataset, epochs=10, validation_data=val_dataset, callbacks=callbacks)\n",
        "\n",
        "# Load the saved model\n",
        "model = keras.models.load_model(\"v3_conv.tf\")\n",
        "\n",
        "\n"
      ]
    },
    {
      "cell_type": "code",
      "execution_count": 20,
      "metadata": {},
      "outputs": [
        {
          "data": {
            "image/png": "[encoded data removed]",
            "text/plain": [
              "<Figure size 640x480 with 1 Axes>"
            ]
          },
          "metadata": {},
          "output_type": "display_data"
        },
        {
          "name": "stdout",
          "output_type": "stream",
          "text": [
            "T-statistic: -2.174700558902556\n",
            "P-value: 0.04783330632147114\n",
            "Reject the null hypothesis. There is a significant difference between the distributions.\n"
          ]
        }
      ],
      "source": [
        "import matplotlib.pyplot as plt\n",
        "loss = history.history[\"mae\"]\n",
        "val_loss = history.history[\"val_mae\"]\n",
        "epochs = range(1, len(loss) + 1)\n",
        "plt.figure()\n",
        "plt.plot(epochs, loss, \"bo\", label=\"Training MAE\")\n",
        "plt.plot(epochs, val_loss, \"b\", label=\"Validation MAE\")\n",
        "plt.title(\"Training and validation MAE\")\n",
        "plt.tight_layout()\n",
        "\n",
        "# Save the plot as a PDF file\n",
        "plt.savefig('CONV.pdf')\n",
        "plt.legend()\n",
        "plt.show()\n",
        "\n",
        "from scipy import stats\n",
        "\n",
        "\n",
        "# Perform a t-test assuming unequal variances (Welch's t-test)\n",
        "t_statistic, p_value = stats.ttest_ind(loss, val_loss, equal_var=False)\n",
        "\n",
        "# Print the results\n",
        "print(\"T-statistic:\", t_statistic)\n",
        "print(\"P-value:\", p_value)\n",
        "\n",
        "# Interpret the results\n",
        "alpha = 0.05  # significance level\n",
        "if p_value < alpha:\n",
        "    print(\"Reject the null hypothesis. There is a significant difference between the distributions.\")\n",
        "else:\n",
        "    print(\"Fail to reject the null hypothesis. There is no significant difference between the distributions.\")\n"
      ]
    },
    {
      "cell_type": "markdown",
      "metadata": {},
      "source": [
        "## LSTM's"
      ]
    },
    {
      "cell_type": "code",
      "execution_count": 21,
      "metadata": {
        "colab": {
          "base_uri": "https://localhost:8080/"
        },
        "id": "B9UvBcOJn-By",
        "outputId": "8179ae0b-6425-48b6-ec4f-8f9cbdf31851"
      },
      "outputs": [
        {
          "name": "stdout",
          "output_type": "stream",
          "text": [
            "Epoch 1/10\n",
            "1/2 [==============>...............] - ETA: 2s - loss: 0.4029 - mae: 0.5086"
          ]
        },
        {
          "name": "stderr",
          "output_type": "stream",
          "text": [
            "WARNING:absl:Found untraced functions such as lstm_cell_layer_call_fn, lstm_cell_layer_call_and_return_conditional_losses while saving (showing 2 of 2). These functions will not be directly callable after loading.\n"
          ]
        },
        {
          "name": "stdout",
          "output_type": "stream",
          "text": [
            "INFO:tensorflow:Assets written to: v3_lstm.tf\\assets\n"
          ]
        },
        {
          "name": "stderr",
          "output_type": "stream",
          "text": [
            "INFO:tensorflow:Assets written to: v3_lstm.tf\\assets\n"
          ]
        },
        {
          "name": "stdout",
          "output_type": "stream",
          "text": [
            "2/2 [==============================] - 6s 4s/step - loss: 0.3961 - mae: 0.4991 - val_loss: 0.5576 - val_mae: 0.7195\n",
            "Epoch 2/10\n",
            "1/2 [==============>...............] - ETA: 0s - loss: 0.2999 - mae: 0.4055"
          ]
        },
        {
          "name": "stderr",
          "output_type": "stream",
          "text": [
            "WARNING:absl:Found untraced functions such as lstm_cell_layer_call_fn, lstm_cell_layer_call_and_return_conditional_losses while saving (showing 2 of 2). These functions will not be directly callable after loading.\n"
          ]
        },
        {
          "name": "stdout",
          "output_type": "stream",
          "text": [
            "INFO:tensorflow:Assets written to: v3_lstm.tf\\assets\n"
          ]
        },
        {
          "name": "stderr",
          "output_type": "stream",
          "text": [
            "INFO:tensorflow:Assets written to: v3_lstm.tf\\assets\n"
          ]
        },
        {
          "name": "stdout",
          "output_type": "stream",
          "text": [
            "2/2 [==============================] - 3s 3s/step - loss: 0.3033 - mae: 0.4146 - val_loss: 0.4409 - val_mae: 0.6319\n",
            "Epoch 3/10\n",
            "1/2 [==============>...............] - ETA: 0s - loss: 0.2700 - mae: 0.3869"
          ]
        },
        {
          "name": "stderr",
          "output_type": "stream",
          "text": [
            "WARNING:absl:Found untraced functions such as lstm_cell_layer_call_fn, lstm_cell_layer_call_and_return_conditional_losses while saving (showing 2 of 2). These functions will not be directly callable after loading.\n"
          ]
        },
        {
          "name": "stdout",
          "output_type": "stream",
          "text": [
            "INFO:tensorflow:Assets written to: v3_lstm.tf\\assets\n"
          ]
        },
        {
          "name": "stderr",
          "output_type": "stream",
          "text": [
            "INFO:tensorflow:Assets written to: v3_lstm.tf\\assets\n"
          ]
        },
        {
          "name": "stdout",
          "output_type": "stream",
          "text": [
            "2/2 [==============================] - 3s 3s/step - loss: 0.2640 - mae: 0.3825 - val_loss: 0.3728 - val_mae: 0.5746\n",
            "Epoch 4/10\n",
            "1/2 [==============>...............] - ETA: 0s - loss: 0.2347 - mae: 0.3593"
          ]
        },
        {
          "name": "stderr",
          "output_type": "stream",
          "text": [
            "WARNING:absl:Found untraced functions such as lstm_cell_layer_call_fn, lstm_cell_layer_call_and_return_conditional_losses while saving (showing 2 of 2). These functions will not be directly callable after loading.\n"
          ]
        },
        {
          "name": "stdout",
          "output_type": "stream",
          "text": [
            "INFO:tensorflow:Assets written to: v3_lstm.tf\\assets\n"
          ]
        },
        {
          "name": "stderr",
          "output_type": "stream",
          "text": [
            "INFO:tensorflow:Assets written to: v3_lstm.tf\\assets\n"
          ]
        },
        {
          "name": "stdout",
          "output_type": "stream",
          "text": [
            "2/2 [==============================] - 4s 4s/step - loss: 0.2359 - mae: 0.3635 - val_loss: 0.3600 - val_mae: 0.5631\n",
            "Epoch 5/10\n",
            "1/2 [==============>...............] - ETA: 0s - loss: 0.2231 - mae: 0.3563"
          ]
        },
        {
          "name": "stderr",
          "output_type": "stream",
          "text": [
            "WARNING:absl:Found untraced functions such as lstm_cell_layer_call_fn, lstm_cell_layer_call_and_return_conditional_losses while saving (showing 2 of 2). These functions will not be directly callable after loading.\n"
          ]
        },
        {
          "name": "stdout",
          "output_type": "stream",
          "text": [
            "INFO:tensorflow:Assets written to: v3_lstm.tf\\assets\n"
          ]
        },
        {
          "name": "stderr",
          "output_type": "stream",
          "text": [
            "INFO:tensorflow:Assets written to: v3_lstm.tf\\assets\n"
          ]
        },
        {
          "name": "stdout",
          "output_type": "stream",
          "text": [
            "2/2 [==============================] - 3s 3s/step - loss: 0.2130 - mae: 0.3451 - val_loss: 0.3409 - val_mae: 0.5457\n",
            "Epoch 6/10\n",
            "1/2 [==============>...............] - ETA: 0s - loss: 0.1941 - mae: 0.3258"
          ]
        },
        {
          "name": "stderr",
          "output_type": "stream",
          "text": [
            "WARNING:absl:Found untraced functions such as lstm_cell_layer_call_fn, lstm_cell_layer_call_and_return_conditional_losses while saving (showing 2 of 2). These functions will not be directly callable after loading.\n"
          ]
        },
        {
          "name": "stdout",
          "output_type": "stream",
          "text": [
            "INFO:tensorflow:Assets written to: v3_lstm.tf\\assets\n"
          ]
        },
        {
          "name": "stderr",
          "output_type": "stream",
          "text": [
            "INFO:tensorflow:Assets written to: v3_lstm.tf\\assets\n"
          ]
        },
        {
          "name": "stdout",
          "output_type": "stream",
          "text": [
            "2/2 [==============================] - 3s 3s/step - loss: 0.1936 - mae: 0.3299 - val_loss: 0.3137 - val_mae: 0.5198\n",
            "Epoch 7/10\n",
            "1/2 [==============>...............] - ETA: 0s - loss: 0.1848 - mae: 0.3250"
          ]
        },
        {
          "name": "stderr",
          "output_type": "stream",
          "text": [
            "WARNING:absl:Found untraced functions such as lstm_cell_layer_call_fn, lstm_cell_layer_call_and_return_conditional_losses while saving (showing 2 of 2). These functions will not be directly callable after loading.\n"
          ]
        },
        {
          "name": "stdout",
          "output_type": "stream",
          "text": [
            "INFO:tensorflow:Assets written to: v3_lstm.tf\\assets\n"
          ]
        },
        {
          "name": "stderr",
          "output_type": "stream",
          "text": [
            "INFO:tensorflow:Assets written to: v3_lstm.tf\\assets\n"
          ]
        },
        {
          "name": "stdout",
          "output_type": "stream",
          "text": [
            "2/2 [==============================] - 3s 3s/step - loss: 0.1758 - mae: 0.3164 - val_loss: 0.3088 - val_mae: 0.5149\n",
            "Epoch 8/10\n",
            "2/2 [==============================] - 0s 70ms/step - loss: 0.1592 - mae: 0.3015 - val_loss: 0.3217 - val_mae: 0.5275\n",
            "Epoch 9/10\n",
            "2/2 [==============================] - 0s 92ms/step - loss: 0.1433 - mae: 0.2859 - val_loss: 0.3157 - val_mae: 0.5216\n",
            "Epoch 10/10\n",
            "2/2 [==============================] - 0s 83ms/step - loss: 0.1295 - mae: 0.2721 - val_loss: 0.3226 - val_mae: 0.5281\n"
          ]
        }
      ],
      "source": [
        "inputs = keras.Input(shape=(sequence_length, raw_data.shape[-1]))\n",
        "x = layers.LSTM(16)(inputs)\n",
        "outputs = layers.Dense(1)(x)\n",
        "model = keras.Model(inputs, outputs)\n",
        "\n",
        "callbacks = [\n",
        "    keras.callbacks.ModelCheckpoint(\"v3_lstm.tf\",\n",
        "                                    save_best_only=True)\n",
        "]\n",
        "model.compile(optimizer=\"rmsprop\", loss=\"mse\", metrics=[\"mae\"])\n",
        "history = model.fit(train_dataset,\n",
        "                    epochs=10,\n",
        "                    validation_data=val_dataset,\n",
        "                    callbacks=callbacks)\n",
        "\n",
        "model = keras.models.load_model(\"v3_lstm.tf\")"
      ]
    },
    {
      "cell_type": "code",
      "execution_count": 22,
      "metadata": {},
      "outputs": [
        {
          "data": {
            "image/png": "[encoded data removed]",
            "text/plain": [
              "<Figure size 640x480 with 1 Axes>"
            ]
          },
          "metadata": {},
          "output_type": "display_data"
        },
        {
          "name": "stdout",
          "output_type": "stream",
          "text": [
            "T-statistic: -7.178029806956321\n",
            "P-value: 1.1212554205261695e-06\n",
            "Reject the null hypothesis. There is a significant difference between the distributions.\n"
          ]
        }
      ],
      "source": [
        "import matplotlib.pyplot as plt\n",
        "loss = history.history[\"mae\"]\n",
        "val_loss = history.history[\"val_mae\"]\n",
        "epochs = range(1, len(loss) + 1)\n",
        "plt.figure()\n",
        "plt.plot(epochs, loss, \"bo\", label=\"Training MAE\")\n",
        "plt.plot(epochs, val_loss, \"b\", label=\"Validation MAE\")\n",
        "plt.title(\"Training and validation MAE\")\n",
        "plt.tight_layout()\n",
        "\n",
        "# Save the plot as a PDF file\n",
        "plt.savefig('LSTM.pdf')\n",
        "plt.legend()\n",
        "plt.show()\n",
        "\n",
        "from scipy import stats\n",
        "\n",
        "\n",
        "# Perform a t-test assuming unequal variances (Welch's t-test)\n",
        "t_statistic, p_value = stats.ttest_ind(loss, val_loss, equal_var=False)\n",
        "\n",
        "# Print the results\n",
        "print(\"T-statistic:\", t_statistic)\n",
        "print(\"P-value:\", p_value)\n",
        "\n",
        "# Interpret the results\n",
        "alpha = 0.05  # significance level\n",
        "if p_value < alpha:\n",
        "    print(\"Reject the null hypothesis. There is a significant difference between the distributions.\")\n",
        "else:\n",
        "    print(\"Fail to reject the null hypothesis. There is no significant difference between the distributions.\")\n"
      ]
    },
    {
      "cell_type": "code",
      "execution_count": 23,
      "metadata": {
        "id": "0iyr_vLcoQlW"
      },
      "outputs": [],
      "source": [
        "import numpy as np\n",
        "timesteps = 100\n",
        "input_features = 32\n",
        "output_features = 64\n",
        "inputs = np.random.random((timesteps, input_features))\n",
        "state_t = np.zeros((output_features,))\n",
        "W = np.random.random((output_features, input_features))\n",
        "U = np.random.random((output_features, output_features))\n",
        "b = np.random.random((output_features,))\n",
        "successive_outputs = []\n",
        "for input_t in inputs:\n",
        "    output_t = np.tanh(np.dot(W, input_t) + np.dot(U, state_t) + b)\n",
        "    successive_outputs.append(output_t)\n",
        "    state_t = output_t\n",
        "final_output_sequence = np.stack(successive_outputs, axis=0)"
      ]
    },
    {
      "cell_type": "code",
      "execution_count": 24,
      "metadata": {
        "id": "M-JNoeXYoUkO"
      },
      "outputs": [],
      "source": [
        "num_features = 14\n",
        "inputs = keras.Input(shape=(None, num_features))\n",
        "outputs = layers.SimpleRNN(16)(inputs)"
      ]
    },
    {
      "cell_type": "code",
      "execution_count": 25,
      "metadata": {
        "colab": {
          "base_uri": "https://localhost:8080/"
        },
        "id": "EfZmiLAUobJJ",
        "outputId": "b765586c-0228-470b-9139-69fac0b4523b"
      },
      "outputs": [
        {
          "name": "stdout",
          "output_type": "stream",
          "text": [
            "(None, 16)\n"
          ]
        }
      ],
      "source": [
        "num_features = 14\n",
        "steps = 120\n",
        "inputs = keras.Input(shape=(steps, num_features))\n",
        "outputs = layers.SimpleRNN(16, return_sequences=False)(inputs)\n",
        "print(outputs.shape)"
      ]
    },
    {
      "cell_type": "code",
      "execution_count": 26,
      "metadata": {
        "colab": {
          "base_uri": "https://localhost:8080/"
        },
        "id": "J1UlC26zoeG5",
        "outputId": "09929f44-2103-45c9-d2d1-e153760d2c8d"
      },
      "outputs": [
        {
          "name": "stdout",
          "output_type": "stream",
          "text": [
            "(None, 120, 16)\n"
          ]
        }
      ],
      "source": [
        "num_features = 14\n",
        "steps = 120\n",
        "inputs = keras.Input(shape=(steps, num_features))\n",
        "outputs = layers.SimpleRNN(16, return_sequences=True)(inputs)\n",
        "print(outputs.shape)"
      ]
    },
    {
      "cell_type": "code",
      "execution_count": 27,
      "metadata": {
        "id": "VK9Gf3Qfoh_d"
      },
      "outputs": [],
      "source": [
        "inputs = keras.Input(shape=(steps, num_features))\n",
        "x = layers.SimpleRNN(16, return_sequences=True)(inputs)\n",
        "x = layers.SimpleRNN(16, return_sequences=True)(x)\n",
        "outputs = layers.SimpleRNN(16)(x)"
      ]
    },
    {
      "cell_type": "markdown",
      "metadata": {},
      "source": [
        "## LSTM with Dropout"
      ]
    },
    {
      "cell_type": "code",
      "execution_count": 28,
      "metadata": {
        "colab": {
          "base_uri": "https://localhost:8080/"
        },
        "id": "rZV25zTZonrE",
        "outputId": "0a87d289-176f-4d15-80ec-7c2ee5f8bb80"
      },
      "outputs": [
        {
          "name": "stdout",
          "output_type": "stream",
          "text": [
            "WARNING:tensorflow:Layer lstm_1 will not use cuDNN kernels since it doesn't meet the criteria. It will use a generic GPU kernel as fallback when running on GPU.\n"
          ]
        },
        {
          "name": "stderr",
          "output_type": "stream",
          "text": [
            "WARNING:tensorflow:Layer lstm_1 will not use cuDNN kernels since it doesn't meet the criteria. It will use a generic GPU kernel as fallback when running on GPU.\n"
          ]
        },
        {
          "name": "stdout",
          "output_type": "stream",
          "text": [
            "Epoch 1/10\n",
            "2/2 [==============================] - ETA: 0s - loss: 0.3615 - mae: 0.4893INFO:tensorflow:Assets written to: v3_lstm_dropout.tf\\assets\n"
          ]
        },
        {
          "name": "stderr",
          "output_type": "stream",
          "text": [
            "INFO:tensorflow:Assets written to: v3_lstm_dropout.tf\\assets\n"
          ]
        },
        {
          "name": "stdout",
          "output_type": "stream",
          "text": [
            "2/2 [==============================] - 6s 4s/step - loss: 0.3615 - mae: 0.4893 - val_loss: 0.2753 - val_mae: 0.4752\n",
            "Epoch 2/10\n",
            "2/2 [==============================] - 1s 657ms/step - loss: 0.2818 - mae: 0.4209 - val_loss: 0.3262 - val_mae: 0.5253\n",
            "Epoch 3/10\n",
            "2/2 [==============================] - ETA: 0s - loss: 0.2498 - mae: 0.3950INFO:tensorflow:Assets written to: v3_lstm_dropout.tf\\assets\n"
          ]
        },
        {
          "name": "stderr",
          "output_type": "stream",
          "text": [
            "INFO:tensorflow:Assets written to: v3_lstm_dropout.tf\\assets\n"
          ]
        },
        {
          "name": "stdout",
          "output_type": "stream",
          "text": [
            "2/2 [==============================] - 3s 3s/step - loss: 0.2498 - mae: 0.3950 - val_loss: 0.2173 - val_mae: 0.4073\n",
            "Epoch 4/10\n",
            "2/2 [==============================] - 2s 931ms/step - loss: 0.2073 - mae: 0.3615 - val_loss: 0.2974 - val_mae: 0.4971\n",
            "Epoch 5/10\n",
            "2/2 [==============================] - 2s 863ms/step - loss: 0.1678 - mae: 0.3236 - val_loss: 0.2232 - val_mae: 0.4152\n",
            "Epoch 6/10\n",
            "2/2 [==============================] - 1s 741ms/step - loss: 0.1447 - mae: 0.3008 - val_loss: 0.3945 - val_mae: 0.5862\n",
            "Epoch 7/10\n",
            "2/2 [==============================] - ETA: 0s - loss: 0.1322 - mae: 0.2905INFO:tensorflow:Assets written to: v3_lstm_dropout.tf\\assets\n"
          ]
        },
        {
          "name": "stderr",
          "output_type": "stream",
          "text": [
            "INFO:tensorflow:Assets written to: v3_lstm_dropout.tf\\assets\n"
          ]
        },
        {
          "name": "stdout",
          "output_type": "stream",
          "text": [
            "2/2 [==============================] - 3s 3s/step - loss: 0.1322 - mae: 0.2905 - val_loss: 0.1823 - val_mae: 0.3620\n",
            "Epoch 8/10\n",
            "2/2 [==============================] - 1s 669ms/step - loss: 0.1270 - mae: 0.2870 - val_loss: 0.2516 - val_mae: 0.4466\n",
            "Epoch 9/10\n",
            "2/2 [==============================] - 1s 640ms/step - loss: 0.1145 - mae: 0.2704 - val_loss: 0.2714 - val_mae: 0.4685\n",
            "Epoch 10/10\n",
            "2/2 [==============================] - 1s 752ms/step - loss: 0.0985 - mae: 0.2477 - val_loss: 0.2614 - val_mae: 0.4571\n"
          ]
        }
      ],
      "source": [
        "inputs = keras.Input(shape=(sequence_length, raw_data.shape[-1]))\n",
        "x = layers.LSTM(32, recurrent_dropout=0.25)(inputs)\n",
        "x = layers.Dropout(0.5)(x)\n",
        "outputs = layers.Dense(1)(x)\n",
        "model = keras.Model(inputs, outputs)\n",
        "\n",
        "callbacks = [\n",
        "    keras.callbacks.ModelCheckpoint(\"v3_lstm_dropout.tf\",\n",
        "                                    save_best_only=True)\n",
        "]\n",
        "model.compile(optimizer=\"rmsprop\", loss=\"mse\", metrics=[\"mae\"])\n",
        "history = model.fit(train_dataset,\n",
        "                    epochs=10,\n",
        "                    validation_data=val_dataset,\n",
        "                    callbacks=callbacks)"
      ]
    },
    {
      "cell_type": "code",
      "execution_count": 29,
      "metadata": {},
      "outputs": [
        {
          "data": {
            "image/png": "[encoded data removed]",
            "text/plain": [
              "<Figure size 640x480 with 1 Axes>"
            ]
          },
          "metadata": {},
          "output_type": "display_data"
        },
        {
          "name": "stdout",
          "output_type": "stream",
          "text": [
            "T-statistic: -3.9861607622022572\n",
            "P-value: 0.0009171180253584644\n",
            "Reject the null hypothesis. There is a significant difference between the distributions.\n"
          ]
        }
      ],
      "source": [
        "import matplotlib.pyplot as plt\n",
        "loss = history.history[\"mae\"]\n",
        "val_loss = history.history[\"val_mae\"]\n",
        "epochs = range(1, len(loss) + 1)\n",
        "plt.figure()\n",
        "plt.plot(epochs, loss, \"bo\", label=\"Training MAE\")\n",
        "plt.plot(epochs, val_loss, \"b\", label=\"Validation MAE\")\n",
        "plt.title(\"Training and validation MAE\")\n",
        "plt.tight_layout()\n",
        "\n",
        "# Save the plot as a PDF file\n",
        "plt.savefig('LSTM_DROP.pdf')\n",
        "plt.legend()\n",
        "plt.show()\n",
        "\n",
        "from scipy import stats\n",
        "\n",
        "\n",
        "# Perform a t-test assuming unequal variances (Welch's t-test)\n",
        "t_statistic, p_value = stats.ttest_ind(loss, val_loss, equal_var=False)\n",
        "\n",
        "# Print the results\n",
        "print(\"T-statistic:\", t_statistic)\n",
        "print(\"P-value:\", p_value)\n",
        "\n",
        "# Interpret the results\n",
        "alpha = 0.05  # significance level\n",
        "if p_value < alpha:\n",
        "    print(\"Reject the null hypothesis. There is a significant difference between the distributions.\")\n",
        "else:\n",
        "    print(\"Fail to reject the null hypothesis. There is no significant difference between the distributions.\")\n"
      ]
    },
    {
      "cell_type": "code",
      "execution_count": 30,
      "metadata": {
        "id": "zkpBBIY5oz51"
      },
      "outputs": [
        {
          "name": "stdout",
          "output_type": "stream",
          "text": [
            "WARNING:tensorflow:Layer lstm_2 will not use cuDNN kernels since it doesn't meet the criteria. It will use a generic GPU kernel as fallback when running on GPU.\n"
          ]
        },
        {
          "name": "stderr",
          "output_type": "stream",
          "text": [
            "WARNING:tensorflow:Layer lstm_2 will not use cuDNN kernels since it doesn't meet the criteria. It will use a generic GPU kernel as fallback when running on GPU.\n"
          ]
        }
      ],
      "source": [
        "inputs = keras.Input(shape=(sequence_length, num_features))\n",
        "x = layers.LSTM(32, recurrent_dropout=0.2, unroll=True)(inputs)\n"
      ]
    },
    {
      "cell_type": "markdown",
      "metadata": {},
      "source": [
        "## GRU"
      ]
    },
    {
      "cell_type": "code",
      "execution_count": 31,
      "metadata": {
        "colab": {
          "base_uri": "https://localhost:8080/"
        },
        "id": "cAUEfjEso41x",
        "outputId": "38358099-c002-47c5-b838-356b386119f0"
      },
      "outputs": [
        {
          "name": "stdout",
          "output_type": "stream",
          "text": [
            "WARNING:tensorflow:Layer gru will not use cuDNN kernels since it doesn't meet the criteria. It will use a generic GPU kernel as fallback when running on GPU.\n"
          ]
        },
        {
          "name": "stderr",
          "output_type": "stream",
          "text": [
            "WARNING:tensorflow:Layer gru will not use cuDNN kernels since it doesn't meet the criteria. It will use a generic GPU kernel as fallback when running on GPU.\n"
          ]
        },
        {
          "name": "stdout",
          "output_type": "stream",
          "text": [
            "WARNING:tensorflow:Layer gru_1 will not use cuDNN kernels since it doesn't meet the criteria. It will use a generic GPU kernel as fallback when running on GPU.\n"
          ]
        },
        {
          "name": "stderr",
          "output_type": "stream",
          "text": [
            "WARNING:tensorflow:Layer gru_1 will not use cuDNN kernels since it doesn't meet the criteria. It will use a generic GPU kernel as fallback when running on GPU.\n"
          ]
        },
        {
          "name": "stdout",
          "output_type": "stream",
          "text": [
            "Epoch 1/10\n",
            "2/2 [==============================] - ETA: 0s - loss: 0.6257 - mae: 0.6564INFO:tensorflow:Assets written to: v3_stacked_gru_dropout.tf\\assets\n"
          ]
        },
        {
          "name": "stderr",
          "output_type": "stream",
          "text": [
            "INFO:tensorflow:Assets written to: v3_stacked_gru_dropout.tf\\assets\n"
          ]
        },
        {
          "name": "stdout",
          "output_type": "stream",
          "text": [
            "2/2 [==============================] - 13s 7s/step - loss: 0.6257 - mae: 0.6564 - val_loss: 0.2146 - val_mae: 0.3906\n",
            "Epoch 2/10\n",
            "2/2 [==============================] - ETA: 0s - loss: 0.3124 - mae: 0.4479INFO:tensorflow:Assets written to: v3_stacked_gru_dropout.tf\\assets\n"
          ]
        },
        {
          "name": "stderr",
          "output_type": "stream",
          "text": [
            "INFO:tensorflow:Assets written to: v3_stacked_gru_dropout.tf\\assets\n"
          ]
        },
        {
          "name": "stdout",
          "output_type": "stream",
          "text": [
            "2/2 [==============================] - 10s 8s/step - loss: 0.3124 - mae: 0.4479 - val_loss: 0.1380 - val_mae: 0.3050\n",
            "Epoch 3/10\n",
            "2/2 [==============================] - 3s 1s/step - loss: 0.2451 - mae: 0.3944 - val_loss: 0.1720 - val_mae: 0.3387\n",
            "Epoch 4/10\n",
            "2/2 [==============================] - 3s 1s/step - loss: 0.2077 - mae: 0.3573 - val_loss: 0.1515 - val_mae: 0.3193\n",
            "Epoch 5/10\n",
            "2/2 [==============================] - ETA: 0s - loss: 0.1799 - mae: 0.3343INFO:tensorflow:Assets written to: v3_stacked_gru_dropout.tf\\assets\n"
          ]
        },
        {
          "name": "stderr",
          "output_type": "stream",
          "text": [
            "INFO:tensorflow:Assets written to: v3_stacked_gru_dropout.tf\\assets\n"
          ]
        },
        {
          "name": "stdout",
          "output_type": "stream",
          "text": [
            "2/2 [==============================] - 8s 7s/step - loss: 0.1799 - mae: 0.3343 - val_loss: 0.1370 - val_mae: 0.3062\n",
            "Epoch 6/10\n",
            "2/2 [==============================] - 3s 1s/step - loss: 0.1636 - mae: 0.3269 - val_loss: 0.2185 - val_mae: 0.3861\n",
            "Epoch 7/10\n",
            "2/2 [==============================] - 2s 1s/step - loss: 0.1405 - mae: 0.3033 - val_loss: 0.1443 - val_mae: 0.3136\n",
            "Epoch 8/10\n",
            "2/2 [==============================] - ETA: 0s - loss: 0.1413 - mae: 0.2982INFO:tensorflow:Assets written to: v3_stacked_gru_dropout.tf\\assets\n"
          ]
        },
        {
          "name": "stderr",
          "output_type": "stream",
          "text": [
            "INFO:tensorflow:Assets written to: v3_stacked_gru_dropout.tf\\assets\n"
          ]
        },
        {
          "name": "stdout",
          "output_type": "stream",
          "text": [
            "2/2 [==============================] - 7s 6s/step - loss: 0.1413 - mae: 0.2982 - val_loss: 0.1288 - val_mae: 0.3009\n",
            "Epoch 9/10\n",
            "2/2 [==============================] - ETA: 0s - loss: 0.1189 - mae: 0.2794INFO:tensorflow:Assets written to: v3_stacked_gru_dropout.tf\\assets\n"
          ]
        },
        {
          "name": "stderr",
          "output_type": "stream",
          "text": [
            "INFO:tensorflow:Assets written to: v3_stacked_gru_dropout.tf\\assets\n"
          ]
        },
        {
          "name": "stdout",
          "output_type": "stream",
          "text": [
            "2/2 [==============================] - 7s 5s/step - loss: 0.1189 - mae: 0.2794 - val_loss: 0.1285 - val_mae: 0.3008\n",
            "Epoch 10/10\n",
            "2/2 [==============================] - 3s 1s/step - loss: 0.1193 - mae: 0.2759 - val_loss: 0.2244 - val_mae: 0.3927\n",
            "WARNING:tensorflow:Layer gru will not use cuDNN kernels since it doesn't meet the criteria. It will use a generic GPU kernel as fallback when running on GPU.\n"
          ]
        },
        {
          "name": "stderr",
          "output_type": "stream",
          "text": [
            "WARNING:tensorflow:Layer gru will not use cuDNN kernels since it doesn't meet the criteria. It will use a generic GPU kernel as fallback when running on GPU.\n"
          ]
        },
        {
          "name": "stdout",
          "output_type": "stream",
          "text": [
            "WARNING:tensorflow:Layer gru_1 will not use cuDNN kernels since it doesn't meet the criteria. It will use a generic GPU kernel as fallback when running on GPU.\n"
          ]
        },
        {
          "name": "stderr",
          "output_type": "stream",
          "text": [
            "WARNING:tensorflow:Layer gru_1 will not use cuDNN kernels since it doesn't meet the criteria. It will use a generic GPU kernel as fallback when running on GPU.\n"
          ]
        }
      ],
      "source": [
        "inputs = keras.Input(shape=(sequence_length, raw_data.shape[-1]))\n",
        "x = layers.GRU(32, recurrent_dropout=0.5, return_sequences=True)(inputs)\n",
        "x = layers.GRU(32, recurrent_dropout=0.5)(x)\n",
        "x = layers.Dropout(0.5)(x)\n",
        "outputs = layers.Dense(1)(x)\n",
        "model = keras.Model(inputs, outputs)\n",
        "\n",
        "callbacks = [\n",
        "    keras.callbacks.ModelCheckpoint(\"v3_stacked_gru_dropout.tf\",\n",
        "                                    save_best_only=True)\n",
        "]\n",
        "model.compile(optimizer=\"rmsprop\", loss=\"mse\", metrics=[\"mae\"])\n",
        "history = model.fit(train_dataset,\n",
        "                    epochs=10,\n",
        "                    validation_data=val_dataset,\n",
        "                    callbacks=callbacks)\n",
        "model = keras.models.load_model(\"v3_stacked_gru_dropout.tf\")\n",
        "#print(f\"Test MAE: {model.evaluate(test_dataset)[1]:.2f}\")\n"
      ]
    },
    {
      "cell_type": "code",
      "execution_count": 32,
      "metadata": {},
      "outputs": [
        {
          "data": {
            "image/png": "[encoded data removed]",
            "text/plain": [
              "<Figure size 640x480 with 1 Axes>"
            ]
          },
          "metadata": {},
          "output_type": "display_data"
        },
        {
          "name": "stdout",
          "output_type": "stream",
          "text": [
            "T-statistic: 0.8356023900019022\n",
            "P-value: 0.4210493971502789\n",
            "Fail to reject the null hypothesis. There is no significant difference between the distributions.\n"
          ]
        }
      ],
      "source": [
        "import matplotlib.pyplot as plt\n",
        "loss = history.history[\"mae\"]\n",
        "val_loss = history.history[\"val_mae\"]\n",
        "epochs = range(1, len(loss) + 1)\n",
        "plt.figure()\n",
        "plt.plot(epochs, loss, \"bo\", label=\"Training MAE\")\n",
        "plt.plot(epochs, val_loss, \"b\", label=\"Validation MAE\")\n",
        "plt.title(\"Training and validation MAE\")\n",
        "plt.tight_layout()\n",
        "\n",
        "# Save the plot as a PDF file\n",
        "plt.savefig('GRU.pdf')\n",
        "plt.legend()\n",
        "plt.show()\n",
        "\n",
        "from scipy import stats\n",
        "\n",
        "\n",
        "# Perform a t-test assuming unequal variances (Welch's t-test)\n",
        "t_statistic, p_value = stats.ttest_ind(loss, val_loss, equal_var=False)\n",
        "\n",
        "# Print the results\n",
        "print(\"T-statistic:\", t_statistic)\n",
        "print(\"P-value:\", p_value)\n",
        "\n",
        "# Interpret the results\n",
        "alpha = 0.05  # significance level\n",
        "if p_value < alpha:\n",
        "    print(\"Reject the null hypothesis. There is a significant difference between the distributions.\")\n",
        "else:\n",
        "    print(\"Fail to reject the null hypothesis. There is no significant difference between the distributions.\")\n"
      ]
    }
  ],
  "metadata": {
    "colab": {
      "provenance": []
    },
    "kernelspec": {
      "display_name": "Python 3",
      "name": "python3"
    },
    "language_info": {
      "codemirror_mode": {
        "name": "ipython",
        "version": 3
      },
      "file_extension": ".py",
      "mimetype": "text/x-python",
      "name": "python",
      "nbconvert_exporter": "python",
      "pygments_lexer": "ipython3",
      "version": "3.9.16"
    }
  },
  "nbformat": 4,
  "nbformat_minor": 0
}
